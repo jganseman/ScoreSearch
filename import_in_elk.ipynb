{
 "cells": [
  {
   "cell_type": "code",
   "execution_count": 23,
   "metadata": {},
   "outputs": [],
   "source": [
    "# Importing the RISM instrumentation json file into ElasticSearch\n",
    "# This script requires that you ran preprocess_rism.ipynb first\n",
    "# To use yourself:\n",
    "# 1. Update the RISM_DIR variable to point to the directory of your RISM json file\n",
    "# 2. If necessary, update the RISM_JSON variable with its filename\n",
    "\n",
    "import os\n",
    "import re\n",
    "import json\n",
    "from elasticsearch import Elasticsearch,helpers\n",
    "import elasticsearch_dsl\n",
    "\n",
    "CUR_DIR = os.getcwd()\n",
    "RISM_DIR = os.path.join(CUR_DIR, '../hamr_2018/rismAllMARCXML')\n",
    "RISM_JSON = 'rism_instronly.json'"
   ]
  },
  {
   "cell_type": "code",
   "execution_count": 24,
   "metadata": {},
   "outputs": [
    {
     "name": "stdout",
     "output_type": "stream",
     "text": [
      "I have a list of  1003148 JSON records\n"
     ]
    }
   ],
   "source": [
    "# open the json file and parse its contents\n",
    "\n",
    "with open(os.path.join(RISM_DIR, RISM_JSON), 'r') as f:\n",
    "    all_records = json.load(f)\n",
    "\n",
    "print('I have a list of ', len(all_records), 'JSON records')\n",
    "    \n",
    "    "
   ]
  },
  {
   "cell_type": "code",
   "execution_count": 31,
   "metadata": {},
   "outputs": [],
   "source": [
    "# Now, create an ELK stack on your machine. Refer to https://elk-docker.readthedocs.io/ for more info.\n",
    "# Make sure to increase the RAM available to Docker if necessary - 4GB is needed at least\n",
    "\n",
    "# To install for the first time, open a terminal and run: \n",
    "# `sudo docker run -p 5601:5601 -p 9200:9200 -p 5044:5044 -it --name elk sebp/elk`\n",
    "\n",
    "# If already installed, open a terminal and run:\n",
    "# `sudo docker start elk`\n",
    "\n",
    "# In the browser, go to: http://localhost:5601 for Kibana\n",
    "# to login, open a terminal and run: \n",
    "# `sudo docker exec -it elk /bin/bash`\n",
    "\n",
    "ELASTIC_HOST = 'localhost:9200'\n",
    "ELASTIC_INDEX = 'rism'   # create a new index with any name, you choose\n"
   ]
  },
  {
   "cell_type": "code",
   "execution_count": null,
   "metadata": {},
   "outputs": [
    {
     "name": "stdout",
     "output_type": "stream",
     "text": [
      "[{'id': '000051650', 'instr_summ': ['S', 'strings', 'cor (2)'], 'instr_full': ['S', 'vl (2)', 'b', 'cor (2)']}, {'id': '000051651', 'instr_summ': ['S', 'orch'], 'instr_full': ['S', 'vl (2)', 'vla', 'b', 'ob', 'fag', 'cor']}, {'id': '000051652', 'instr_summ': ['S', 'orch'], 'instr_full': ['S', 'vl (2)', 'vla (1)', 'vla', 'b', 'ob (2)', 'cl (2)', 'cor (2)']}, {'id': '000051653', 'instr_summ': ['V (2)', 'orch'], 'instr_full': ['S', 'B', 'vl (2)', 'vla', 'b', 'fag', 'cor (2)', 'tr (2)']}, {'id': '000051654', 'instr_summ': ['S', 'strings'], 'instr_full': ['S', 'vl (2)', 'vla', 'b']}, {'id': '000051655', 'instr_summ': ['S', 'orch'], 'instr_full': ['S', 'vl (2)', 'vla', 'b', 'ob', 'cor']}, {'id': '000051656', 'instr_summ': ['S', 'orch'], 'instr_full': ['S', 'vl (2)', 'vla', 'b', 'ob', 'cor']}, {'id': '000051657', 'instr_summ': ['S', 'orch'], 'instr_full': ['S', 'vl (2)', 'violetta', 'b', 'ob (2)', 'fag', 'cor']}, {'id': '000051658', 'instr_summ': ['V (2)', 'orch'], 'instr_full': ['S', 'B', 'vl (2)', 'vla', 'b', 'fl (2)', 'cor']}, {'id': '000051659', 'instr_full': ['V', 'vl (2)', 'vla', 'b', 'fl (2)', 'ob (2)', 'cor (2)']}]\n"
     ]
    }
   ],
   "source": [
    "# Import the JSON in elastic\n",
    "# This might easily take an hour I guess, for the full 1 million records in RISM\n",
    "\n",
    "es = Elasticsearch([ ELASTIC_HOST ])\n",
    "fewrecords = all_records[0:10]\n",
    "print(fewrecords)\n",
    "\n",
    "\n",
    "# first create an index to upload this doc to (? necessary ?)\n",
    "#if not es.indices.exists(index= ELASTIC_INDEX )\n",
    "es.indices.create(ELASTIC_INDEX, ignore=400)\n",
    "    \n",
    "# then bulk index\n",
    "# helpers.bulk(es,fewrecords)\n",
    "\n",
    "myid=1\n",
    "for myrecord in all_records:\n",
    "    # print(myrecord)\n",
    "    es.index(index=ELASTIC_INDEX, doc_type='doc', id=myid, body=myrecord)\n",
    "    myid += 1\n",
    "    if not myid%10000:\n",
    "        print ('Inserted ', myid-1, ' documents') \n",
    "    # print(myid)\n",
    "    \n",
    "print ('Finished: in total inserted ', myid-1, ' documents')    "
   ]
  },
  {
   "cell_type": "code",
   "execution_count": null,
   "metadata": {},
   "outputs": [],
   "source": [
    "# In Kibana, try to create a Dashboard to visualize the data.\n",
    "\n",
    "# Follow this tutorial: https://www.elastic.co/guide/en/kibana/6.4/tutorial-build-dashboard.html \n",
    "\n",
    "# (Go to Management, create a new index pattern to connect to the newly created index)\n"
   ]
  }
 ],
 "metadata": {
  "kernelspec": {
   "display_name": "Python 3",
   "language": "python",
   "name": "python3"
  },
  "language_info": {
   "codemirror_mode": {
    "name": "ipython",
    "version": 3
   },
   "file_extension": ".py",
   "mimetype": "text/x-python",
   "name": "python",
   "nbconvert_exporter": "python",
   "pygments_lexer": "ipython3",
   "version": "3.7.0"
  }
 },
 "nbformat": 4,
 "nbformat_minor": 2
}
